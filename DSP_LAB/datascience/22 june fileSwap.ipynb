{
 "cells": [
  {
   "cell_type": "markdown",
   "id": "221fa34e-e05a-472d-ab63-6013c2e6fa57",
   "metadata": {
    "tags": []
   },
   "source": [
    "f1 = open(\"file1.txt\",\"r\")\n",
    "f2 = open(\"file2.txt\",\"r\")\n",
    "\n",
    "t1 = f1.read()\n",
    "t2 = f2.read()\n",
    "\n",
    "f1.close()\n",
    "f2.close()\n",
    "\n",
    "f1 = open(\"file1.txt\",\"w\")\n",
    "f2 = open(\"file2.txt\",\"w\")\n",
    "\n",
    "f1.write(t2)\n",
    "f2.write(t1)\n",
    "\n",
    "f1.close()\n",
    "f2.close()"
   ]
  }
 ],
 "metadata": {
  "kernelspec": {
   "display_name": "Python 3 (ipykernel)",
   "language": "python",
   "name": "python3"
  },
  "language_info": {
   "codemirror_mode": {
    "name": "ipython",
    "version": 3
   },
   "file_extension": ".py",
   "mimetype": "text/x-python",
   "name": "python",
   "nbconvert_exporter": "python",
   "pygments_lexer": "ipython3",
   "version": "3.9.12"
  }
 },
 "nbformat": 4,
 "nbformat_minor": 5
}
