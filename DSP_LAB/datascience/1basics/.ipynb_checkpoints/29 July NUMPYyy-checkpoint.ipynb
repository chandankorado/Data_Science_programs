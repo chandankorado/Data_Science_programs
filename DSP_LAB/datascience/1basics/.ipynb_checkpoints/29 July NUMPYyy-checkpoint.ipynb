{
 "cells": [
  {
   "cell_type": "code",
   "execution_count": 19,
   "id": "ef274892",
   "metadata": {},
   "outputs": [
    {
     "name": "stdout",
     "output_type": "stream",
     "text": [
      "a.ndim : 1\n",
      "a2.ndim : 2\n",
      "a.itemsize : 4\n",
      "a.dtype : int32\n",
      "f.dtype : float64\n",
      "f1.dtype : float64\n",
      "c.dtype : complex128\n",
      "a.size : 8\n",
      "[[0 1 2 3]\n",
      " [4 5 6 7]]\n",
      "a2.shape : (2, 4)\n",
      "[0.+0.j 1.+0.j 2.+0.j 3.+0.j 4.+0.j 5.+0.j 6.+0.j 7.+0.j]\n"
     ]
    }
   ],
   "source": [
    "# NUMPY\n",
    "import numpy as np\n",
    "\n",
    "a  = np.array([0,1,2,3,4,5,6,7])\n",
    "a2 = np.array([[0,1,2,3],[4,5,6,7]])\n",
    "f  = np.array([0,1,2,3,4,5,6,7], dtype = np.float64) # float\n",
    "f1 = np.array([0.1,1,2,3,4,5,6,7])                   # float\n",
    "c  = np.array([0,1,2,3,4,5,6,7], dtype = complex)    # complex\n",
    "\n",
    "\n",
    "print(\"a.ndim :\",a.ndim) # ndim : n dimensional array              ndim\n",
    "print(\"a2.ndim :\",a2.ndim)                                     \n",
    "print(\"a.itemsize :\",a.itemsize)  # byte size of each element      itemsize\n",
    "print(\"a.dtype :\",a.dtype) # datatype                              dtype\n",
    "print(\"f.dtype :\",f.dtype) \n",
    "print(\"f1.dtype :\",f1.dtype) \n",
    "print(\"c.dtype :\",c.dtype) \n",
    "print(\"a.size :\",a.size)    # no. of items                         size\n",
    "print(a2)\n",
    "print(\"a2.shape :\",a2.shape)  # shape                              shape\n",
    "print(c)"
   ]
  },
  {
   "cell_type": "code",
   "execution_count": 35,
   "id": "f78f1533",
   "metadata": {},
   "outputs": [
    {
     "name": "stdout",
     "output_type": "stream",
     "text": [
      "[[0. 0. 0.]\n",
      " [0. 0. 0.]\n",
      " [0. 0. 0.]\n",
      " [0. 0. 0.]]\n",
      "[[1. 1. 1.]\n",
      " [1. 1. 1.]\n",
      " [1. 1. 1.]\n",
      " [1. 1. 1.]]\n"
     ]
    }
   ],
   "source": [
    "z = np.zeros((4,3))        # zeros\n",
    "o = np.ones((4,3))         # ones\n",
    "\n",
    "print(z)\n",
    "print(o)\n"
   ]
  },
  {
   "cell_type": "code",
   "execution_count": 42,
   "id": "455aaf92",
   "metadata": {},
   "outputs": [
    {
     "name": "stdout",
     "output_type": "stream",
     "text": [
      "range(0, 5)\n",
      "4\n",
      "[1 2 3 4 5]\n",
      "[0 2 4 6 8]\n",
      "[0.         0.55555556 1.11111111 1.66666667 2.22222222 2.77777778\n",
      " 3.33333333 3.88888889 4.44444444 5.        ]\n"
     ]
    }
   ],
   "source": [
    "l = range(5)\n",
    "a = np.arange(1,6)\n",
    "\n",
    "b = np.arange(0,10,2)\n",
    "f = np.linspace(0,5,10)\n",
    "\n",
    "print(l)\n",
    "print(l[4])  # not  l[5]\n",
    "print(a) \n",
    "print(b)\n",
    "print(f)"
   ]
  },
  {
   "cell_type": "code",
   "execution_count": 52,
   "id": "4945d837",
   "metadata": {},
   "outputs": [
    {
     "name": "stdout",
     "output_type": "stream",
     "text": [
      "(3, 2)\n",
      "[[0 1]\n",
      " [2 3]\n",
      " [4 5]]\n",
      "(2, 3)\n",
      "[[0 1 2]\n",
      " [3 4 5]]\n",
      "(6, 1)\n",
      "[[0]\n",
      " [1]\n",
      " [2]\n",
      " [3]\n",
      " [4]\n",
      " [5]]\n",
      "[0 1 2 3 4 5]\n",
      "[[0]\n",
      " [1]\n",
      " [2]\n",
      " [3]\n",
      " [4]\n",
      " [5]]\n"
     ]
    }
   ],
   "source": [
    "a = np.array([[0,1],[2,3],[4,5]])\n",
    "print(a.shape)\n",
    "print(a)\n",
    "b = a.reshape(2,3)\n",
    "print(b.shape)\n",
    "print(b)\n",
    "c = a.reshape(6,1)\n",
    "print(c.shape)\n",
    "print(c)\n",
    "d = c.ravel()   # flatten aray\n",
    "print(d)\n",
    "print(c)       # didn't touch the original array"
   ]
  },
  {
   "cell_type": "code",
   "execution_count": 54,
   "id": "de07c189",
   "metadata": {},
   "outputs": [
    {
     "data": {
      "text/plain": [
       "array([[0, 1],\n",
       "       [2, 3],\n",
       "       [4, 5]])"
      ]
     },
     "execution_count": 54,
     "metadata": {},
     "output_type": "execute_result"
    }
   ],
   "source": [
    "a"
   ]
  },
  {
   "cell_type": "code",
   "execution_count": 70,
   "id": "967d6bc1",
   "metadata": {},
   "outputs": [
    {
     "name": "stdout",
     "output_type": "stream",
     "text": [
      "0\n",
      "5\n",
      "15\n",
      "[6 9]\n",
      "[1 5 9]\n",
      "sqrt : [1.         2.         3.         4.12310563 5.        ]\n",
      "standard deviation : 8.772684879784524\n"
     ]
    }
   ],
   "source": [
    "print(a.min())\n",
    "print(a.max())\n",
    "print(a.sum())\n",
    "print(a.sum(axis = 0))\n",
    "print(a.sum(axis = 1))   # cannot 2\n",
    "\n",
    "b = np.array([1,4,9,17,25])\n",
    "s = np.sqrt(b)\n",
    "print(\"sqrt :\",s)\n",
    "t = np.std(b)\n",
    "print(\"standard deviation :\",t)"
   ]
  },
  {
   "cell_type": "code",
   "execution_count": 1,
   "id": "cd7b44c8",
   "metadata": {},
   "outputs": [
    {
     "ename": "NameError",
     "evalue": "name 'np' is not defined",
     "output_type": "error",
     "traceback": [
      "\u001b[1;31m---------------------------------------------------------------------------\u001b[0m",
      "\u001b[1;31mNameError\u001b[0m                                 Traceback (most recent call last)",
      "Input \u001b[1;32mIn [1]\u001b[0m, in \u001b[0;36m<cell line: 1>\u001b[1;34m()\u001b[0m\n\u001b[1;32m----> 1\u001b[0m x \u001b[38;5;241m=\u001b[39m \u001b[43mnp\u001b[49m\u001b[38;5;241m.\u001b[39marray([[\u001b[38;5;241m1\u001b[39m,\u001b[38;5;241m2\u001b[39m,\u001b[38;5;241m3\u001b[39m],[\u001b[38;5;241m4\u001b[39m,\u001b[38;5;241m5\u001b[39m,\u001b[38;5;241m6\u001b[39m],[\u001b[38;5;241m7\u001b[39m,\u001b[38;5;241m8\u001b[39m,\u001b[38;5;241m9\u001b[39m]])\n\u001b[0;32m      2\u001b[0m y \u001b[38;5;241m=\u001b[39m np\u001b[38;5;241m.\u001b[39marray([[\u001b[38;5;241m1\u001b[39m,\u001b[38;5;241m2\u001b[39m,\u001b[38;5;241m3\u001b[39m],[\u001b[38;5;241m4\u001b[39m,\u001b[38;5;241m5\u001b[39m,\u001b[38;5;241m6\u001b[39m],[\u001b[38;5;241m7\u001b[39m,\u001b[38;5;241m8\u001b[39m,\u001b[38;5;241m9\u001b[39m]])\n\u001b[0;32m      4\u001b[0m \u001b[38;5;28mprint\u001b[39m(\u001b[38;5;124m\"\u001b[39m\u001b[38;5;124mAddition of 2 array :\u001b[39m\u001b[38;5;130;01m\\n\u001b[39;00m\u001b[38;5;124m\"\u001b[39m,x\u001b[38;5;241m+\u001b[39my)   \u001b[38;5;66;03m# arithmatic opr -> *,-,/, etc\u001b[39;00m\n",
      "\u001b[1;31mNameError\u001b[0m: name 'np' is not defined"
     ]
    }
   ],
   "source": [
    "x = np.array([[1,2,3],[4,5,6],[7,8,9]])\n",
    "y = np.array([[1,2,3],[4,5,6],[7,8,9]])\n",
    "\n",
    "print(\"Addition of 2 array :\\n\",x+y)   # arithmatic opr -> *,-,/, etc\n",
    "print(\"Division of 2 array :\\n\",x/y)\n",
    "print(\"Multiplication of 2 matrices : \\n\",a.dot(b))"
   ]
  },
  {
   "cell_type": "code",
   "execution_count": null,
   "id": "627e420e",
   "metadata": {},
   "outputs": [],
   "source": []
  }
 ],
 "metadata": {
  "kernelspec": {
   "display_name": "Python 3 (ipykernel)",
   "language": "python",
   "name": "python3"
  },
  "language_info": {
   "codemirror_mode": {
    "name": "ipython",
    "version": 3
   },
   "file_extension": ".py",
   "mimetype": "text/x-python",
   "name": "python",
   "nbconvert_exporter": "python",
   "pygments_lexer": "ipython3",
   "version": "3.9.12"
  }
 },
 "nbformat": 4,
 "nbformat_minor": 5
}
