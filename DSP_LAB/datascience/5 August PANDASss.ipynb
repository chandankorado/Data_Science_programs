{
 "cells": [
  {
   "cell_type": "code",
   "execution_count": 1,
   "id": "6e78122d",
   "metadata": {},
   "outputs": [
    {
     "name": "stdout",
     "output_type": "stream",
     "text": [
      "    cars  passings\n",
      "0    BMW         3\n",
      "1  Volvo         7\n",
      "2   Ford         2\n"
     ]
    }
   ],
   "source": [
    "# DataFrame\n",
    "\n",
    "import pandas as pd\n",
    "\n",
    "mydataset = {'cars':[\"BMW\",\"Volvo\",\"Ford\"],'passings':[3,7,2]}\n",
    "\n",
    "myvar = pd.DataFrame(mydataset)\n",
    "\n",
    "print(myvar)"
   ]
  },
  {
   "cell_type": "code",
   "execution_count": 2,
   "id": "69ab2cac",
   "metadata": {},
   "outputs": [
    {
     "name": "stdout",
     "output_type": "stream",
     "text": [
      "0    1\n",
      "1    7\n",
      "2    2\n",
      "dtype: int64\n",
      "   0\n",
      "0  1\n",
      "1  7\n",
      "2  2\n"
     ]
    }
   ],
   "source": [
    "# Series\n",
    "\n",
    "a = [1,7,2]\n",
    "\n",
    "myvar = pd.Series(a)\n",
    "myvarr = pd.DataFrame(a)\n",
    "\n",
    "print(myvar)\n",
    "print(myvarr)"
   ]
  },
  {
   "cell_type": "code",
   "execution_count": 3,
   "id": "1565fd9c",
   "metadata": {},
   "outputs": [
    {
     "name": "stdout",
     "output_type": "stream",
     "text": [
      "x    1\n",
      "y    7\n",
      "z    2\n",
      "dtype: int64\n",
      "1\n"
     ]
    }
   ],
   "source": [
    "# Labels\n",
    "\n",
    "a = [1,7,2]\n",
    "\n",
    "myvar = pd.Series(a, index = ['x','y','z'])\n",
    "\n",
    "print(myvar)\n",
    "print(myvar['x'])"
   ]
  },
  {
   "cell_type": "code",
   "execution_count": 4,
   "id": "5ade9275",
   "metadata": {},
   "outputs": [
    {
     "name": "stdout",
     "output_type": "stream",
     "text": [
      "day1    420\n",
      "day2    380\n",
      "day3    390\n",
      "dtype: int64\n"
     ]
    }
   ],
   "source": [
    "calories = {\"day1\":420,\"day2\":380,\"day3\":390}\n",
    "\n",
    "myvar = pd.Series(calories)       # myvarr = pd.DataFrame(calories) \"cant be taken \"\n",
    "\n",
    "print(myvar)"
   ]
  },
  {
   "cell_type": "code",
   "execution_count": 5,
   "id": "c5f09371",
   "metadata": {},
   "outputs": [
    {
     "name": "stdout",
     "output_type": "stream",
     "text": [
      "day1    420\n",
      "day2    380\n",
      "dtype: int64\n"
     ]
    }
   ],
   "source": [
    "calories = {\"day1\":420,\"day2\":380,\"day3\":390}\n",
    "\n",
    "myvar = pd.Series(calories, index = ['day1','day2'])\n",
    "print(myvar)"
   ]
  },
  {
   "cell_type": "code",
   "execution_count": 6,
   "id": "4c044756",
   "metadata": {},
   "outputs": [
    {
     "name": "stdout",
     "output_type": "stream",
     "text": [
      "   calories  duration\n",
      "0       420        50\n",
      "1       380        40\n",
      "2       390        45\n"
     ]
    }
   ],
   "source": [
    "# A DataFrame from two Series\n",
    "\n",
    "data = {\n",
    "    \"calories\":[420,380,390],\n",
    "    \"duration\":[50,40,45]\n",
    "}\n",
    "df =pd.DataFrame(data)\n",
    "\n",
    "print(df)"
   ]
  },
  {
   "cell_type": "code",
   "execution_count": 7,
   "id": "358c3458",
   "metadata": {},
   "outputs": [
    {
     "name": "stdout",
     "output_type": "stream",
     "text": [
      "calories    420\n",
      "duration     50\n",
      "Name: 0, dtype: int64\n"
     ]
    }
   ],
   "source": [
    "print(df.loc[0])"
   ]
  },
  {
   "cell_type": "code",
   "execution_count": 8,
   "id": "24a782d5",
   "metadata": {},
   "outputs": [
    {
     "name": "stdout",
     "output_type": "stream",
     "text": [
      "   calories  duration\n",
      "0       420        50\n",
      "1       380        40\n"
     ]
    }
   ],
   "source": [
    "print(df.loc[[0,1]])"
   ]
  },
  {
   "cell_type": "code",
   "execution_count": 9,
   "id": "0ffd49d2",
   "metadata": {},
   "outputs": [
    {
     "name": "stdout",
     "output_type": "stream",
     "text": [
      "      calories  duration\n",
      "day1       420        50\n",
      "day2       380        40\n",
      "day3       390        45\n"
     ]
    }
   ],
   "source": [
    "# named index in DataFrame\n",
    "\n",
    "data = {\n",
    "    \"calories\":[420,380,390],\n",
    "    \"duration\":[50,40,45]\n",
    "}\n",
    "df =pd.DataFrame(data, index = ['day1','day2','day3'])\n",
    "\n",
    "print(df)"
   ]
  },
  {
   "cell_type": "code",
   "execution_count": 10,
   "id": "498ec76e",
   "metadata": {},
   "outputs": [
    {
     "name": "stdout",
     "output_type": "stream",
     "text": [
      "calories    380\n",
      "duration     40\n",
      "Name: day2, dtype: int64\n"
     ]
    }
   ],
   "source": [
    "print(df.loc['day2'])"
   ]
  },
  {
   "cell_type": "code",
   "execution_count": 11,
   "id": "1c76bf95",
   "metadata": {},
   "outputs": [
    {
     "data": {
      "text/html": [
       "<div>\n",
       "<style scoped>\n",
       "    .dataframe tbody tr th:only-of-type {\n",
       "        vertical-align: middle;\n",
       "    }\n",
       "\n",
       "    .dataframe tbody tr th {\n",
       "        vertical-align: top;\n",
       "    }\n",
       "\n",
       "    .dataframe thead th {\n",
       "        text-align: right;\n",
       "    }\n",
       "</style>\n",
       "<table border=\"1\" class=\"dataframe\">\n",
       "  <thead>\n",
       "    <tr style=\"text-align: right;\">\n",
       "      <th></th>\n",
       "      <th>Duration</th>\n",
       "      <th>Pulse</th>\n",
       "      <th>Maxpulse</th>\n",
       "      <th>Calories</th>\n",
       "    </tr>\n",
       "  </thead>\n",
       "  <tbody>\n",
       "    <tr>\n",
       "      <th>0</th>\n",
       "      <td>60</td>\n",
       "      <td>110</td>\n",
       "      <td>130</td>\n",
       "      <td>409</td>\n",
       "    </tr>\n",
       "    <tr>\n",
       "      <th>1</th>\n",
       "      <td>60</td>\n",
       "      <td>117</td>\n",
       "      <td>145</td>\n",
       "      <td>479</td>\n",
       "    </tr>\n",
       "    <tr>\n",
       "      <th>3</th>\n",
       "      <td>60</td>\n",
       "      <td>103</td>\n",
       "      <td>135</td>\n",
       "      <td>340</td>\n",
       "    </tr>\n",
       "    <tr>\n",
       "      <th>4</th>\n",
       "      <td>45</td>\n",
       "      <td>109</td>\n",
       "      <td>175</td>\n",
       "      <td>282</td>\n",
       "    </tr>\n",
       "    <tr>\n",
       "      <th>5</th>\n",
       "      <td>45</td>\n",
       "      <td>117</td>\n",
       "      <td>148</td>\n",
       "      <td>406</td>\n",
       "    </tr>\n",
       "    <tr>\n",
       "      <th>6</th>\n",
       "      <td>60</td>\n",
       "      <td>102</td>\n",
       "      <td>127</td>\n",
       "      <td>309</td>\n",
       "    </tr>\n",
       "  </tbody>\n",
       "</table>\n",
       "</div>"
      ],
      "text/plain": [
       "   Duration  Pulse  Maxpulse  Calories\n",
       "0        60    110       130       409\n",
       "1        60    117       145       479\n",
       "3        60    103       135       340\n",
       "4        45    109       175       282\n",
       "5        45    117       148       406\n",
       "6        60    102       127       309"
      ]
     },
     "execution_count": 11,
     "metadata": {},
     "output_type": "execute_result"
    }
   ],
   "source": [
    "data = {\n",
    "    \"Duration\":{\n",
    "        \"0\":60,\n",
    "        \"1\":60,\n",
    "        \"3\":60,\n",
    "        \"4\":45,\n",
    "        \"5\":45,\n",
    "        \"6\":60,\n",
    "    },\n",
    "    \"Pulse\":{\n",
    "        \"0\":110,\n",
    "        \"1\":117,\n",
    "        \"3\":103,\n",
    "        \"4\":109,\n",
    "        \"5\":117,\n",
    "        \"6\":102,\n",
    "    },\n",
    "    \"Maxpulse\":{\n",
    "        \"0\":130,\n",
    "        \"1\":145,\n",
    "        \"3\":135,\n",
    "        \"4\":175,\n",
    "        \"5\":148,\n",
    "        \"6\":127,\n",
    "    },\n",
    "    \"Calories\":{\n",
    "        \"0\":409,\n",
    "        \"1\":479,\n",
    "        \"3\":340,\n",
    "        \"4\":282,\n",
    "        \"5\":406,\n",
    "        \"6\":309,\n",
    "    }\n",
    "}\n",
    "df = pd.DataFrame(data)\n",
    "df"
   ]
  },
  {
   "cell_type": "code",
   "execution_count": 1,
   "id": "0e79d30d",
   "metadata": {},
   "outputs": [
    {
     "ename": "NameError",
     "evalue": "name 'pd' is not defined",
     "output_type": "error",
     "traceback": [
      "\u001b[1;31m---------------------------------------------------------------------------\u001b[0m",
      "\u001b[1;31mNameError\u001b[0m                                 Traceback (most recent call last)",
      "Input \u001b[1;32mIn [1]\u001b[0m, in \u001b[0;36m<cell line: 3>\u001b[1;34m()\u001b[0m\n\u001b[0;32m      1\u001b[0m \u001b[38;5;66;03m# fillna\u001b[39;00m\n\u001b[1;32m----> 3\u001b[0m df \u001b[38;5;241m=\u001b[39m \u001b[43mpd\u001b[49m\u001b[38;5;241m.\u001b[39mread_csv(\u001b[38;5;124m\"\u001b[39m\u001b[38;5;124mdata.csv\u001b[39m\u001b[38;5;124m\"\u001b[39m)\n\u001b[0;32m      5\u001b[0m nee_df \u001b[38;5;241m=\u001b[39m df\u001b[38;5;241m.\u001b[39mfillna(\u001b[38;5;241m100\u001b[39m,inplace \u001b[38;5;241m=\u001b[39m \u001b[38;5;28;01mTrue\u001b[39;00m)   \u001b[38;5;66;03m# replace 100 with empty cell\u001b[39;00m\n\u001b[0;32m      6\u001b[0m \u001b[38;5;28mprint\u001b[39m(nee_df\u001b[38;5;241m.\u001b[39mto_string())\n",
      "\u001b[1;31mNameError\u001b[0m: name 'pd' is not defined"
     ]
    }
   ],
   "source": [
    "# fillna\n",
    "\n",
    "df = pd.read_csv(\"data.csv\")\n",
    "\n",
    "nee_df = df.fillna(100,inplace = True)   # replace 100 with empty cell\n",
    "print(nee_df.to_string())\n",
    "\n",
    "nee_df = df[\"Callories\"].fillna(100,inplace = True)   # replace 100 with empty cell in Callories column\n",
    "print(nee_df.to_string())\n",
    "\n",
    "x = df[\"Callories\"].mean()\n",
    "d = df[\"Callories\"].fillna(x, inplace = True)     # replace using mean\n",
    "print(d.to_string)\n",
    "\n",
    "y = df[\"Callories\"].median()\n",
    "d = df[\"Callories\"].fillna(y, inplace = True)     # replace using median\n",
    "print(d.to_string)\n",
    "\n",
    "z = df[\"Callories\"].mode()[0]\n",
    "d = df[\"Callories\"].fillna(z, inplace = True)     # replace using mode\n",
    "print(d.to_string)\n"
   ]
  }
 ],
 "metadata": {
  "kernelspec": {
   "display_name": "Python 3 (ipykernel)",
   "language": "python",
   "name": "python3"
  },
  "language_info": {
   "codemirror_mode": {
    "name": "ipython",
    "version": 3
   },
   "file_extension": ".py",
   "mimetype": "text/x-python",
   "name": "python",
   "nbconvert_exporter": "python",
   "pygments_lexer": "ipython3",
   "version": "3.9.12"
  }
 },
 "nbformat": 4,
 "nbformat_minor": 5
}
