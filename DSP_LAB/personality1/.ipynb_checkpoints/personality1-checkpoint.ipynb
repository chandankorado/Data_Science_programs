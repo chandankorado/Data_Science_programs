{
 "cells": [
  {
   "cell_type": "markdown",
   "metadata": {
    "id": "3N0lERktdYAW"
   },
   "source": [
    "**<h2> MBTI Personality Prediction using Machine Learning : CSL2050 </h2>**\n",
    "<hr>\n",
    "\n",
    "By :<br>\n",
    "Vedant A. Sontake<br> \n",
    "Electrical Engineering, B.Tech.<br> \n",
    "Indian Institute of Technology Jodhpur\n",
    "\n"
   ]
  },
  {
   "cell_type": "code",
   "execution_count": 1,
   "metadata": {
    "colab": {
     "base_uri": "https://localhost:8080/"
    },
    "id": "cJg1bky2tjVX",
    "outputId": "e795f0f9-39cd-47c6-bd2d-50aed89ea166"
   },
   "outputs": [
    {
     "ename": "ModuleNotFoundError",
     "evalue": "No module named 'google'",
     "output_type": "error",
     "traceback": [
      "\u001b[0;31m---------------------------------------------------------------------------\u001b[0m",
      "\u001b[0;31mModuleNotFoundError\u001b[0m                       Traceback (most recent call last)",
      "Input \u001b[0;32mIn [1]\u001b[0m, in \u001b[0;36m<cell line: 1>\u001b[0;34m()\u001b[0m\n\u001b[0;32m----> 1\u001b[0m \u001b[38;5;28;01mfrom\u001b[39;00m \u001b[38;5;21;01mgoogle\u001b[39;00m\u001b[38;5;21;01m.\u001b[39;00m\u001b[38;5;21;01mcolab\u001b[39;00m \u001b[38;5;28;01mimport\u001b[39;00m drive\n\u001b[1;32m      2\u001b[0m drive\u001b[38;5;241m.\u001b[39mmount(\u001b[38;5;124m'\u001b[39m\u001b[38;5;124m/content/drive\u001b[39m\u001b[38;5;124m'\u001b[39m)\n",
      "\u001b[0;31mModuleNotFoundError\u001b[0m: No module named 'google'"
     ]
    }
   ],
   "source": [
    "from google.colab import drive\n",
    "drive.mount('/content/drive')"
   ]
  },
  {
   "cell_type": "code",
   "execution_count": null,
   "metadata": {
    "id": "tYKmm7KRfjBk"
   },
   "outputs": [],
   "source": [
    "import pandas as pd\n",
    "import numpy as np\n",
    "import nltk\n",
    "import re\n",
    "import seaborn as sns\n",
    "import matplotlib.pyplot as plt\n",
    "from sklearn.metrics import roc_curve\n",
    "from sklearn.metrics import roc_auc_score\n",
    "from sklearn.feature_extraction.text import TfidfVectorizer\n",
    "from sklearn.feature_extraction.text import CountVectorizer,TfidfTransformer\n",
    "from sklearn.metrics import accuracy_score\n",
    "from sklearn.model_selection import GridSearchCV"
   ]
  },
  {
   "cell_type": "code",
   "execution_count": null,
   "metadata": {
    "id": "5ehk5iqaf0d9"
   },
   "outputs": [],
   "source": [
    "mbti_df=pd.read_csv('/content/drive/MyDrive/PRML_Bonus_Project/mbti_1.csv')"
   ]
  },
  {
   "cell_type": "code",
   "execution_count": null,
   "metadata": {
    "colab": {
     "base_uri": "https://localhost:8080/",
     "height": 206
    },
    "id": "bxzXIpJfgUS5",
    "outputId": "72ce5612-2e11-4ee1-99a8-711036b6ab32"
   },
   "outputs": [],
   "source": [
    "mbti_df.head()"
   ]
  },
  {
   "cell_type": "code",
   "execution_count": null,
   "metadata": {
    "colab": {
     "base_uri": "https://localhost:8080/",
     "height": 122
    },
    "id": "Z8X_Qy3JVAbR",
    "outputId": "308c3a96-4eb8-4a82-ad10-70a6af29c5cc"
   },
   "outputs": [],
   "source": [
    "mbti_df.posts[0]"
   ]
  },
  {
   "cell_type": "code",
   "execution_count": null,
   "metadata": {
    "colab": {
     "base_uri": "https://localhost:8080/"
    },
    "id": "Zt_dW_a2gh8X",
    "outputId": "5661a054-c4ce-48b5-a722-1e31e9a61c64"
   },
   "outputs": [],
   "source": [
    "mbti_df.info()"
   ]
  },
  {
   "cell_type": "markdown",
   "metadata": {
    "id": "_v4Sdpu6C7oS"
   },
   "source": [
    "##Data Visualization"
   ]
  },
  {
   "cell_type": "code",
   "execution_count": null,
   "metadata": {
    "colab": {
     "base_uri": "https://localhost:8080/",
     "height": 311
    },
    "id": "Gg8KQ7D9BLq4",
    "outputId": "5b927ba5-f688-412e-b96c-d93001c78268"
   },
   "outputs": [],
   "source": [
    "pd.DataFrame(mbti_df.type.value_counts()).plot.bar()\n",
    "plt.ylabel('Frequency')\n",
    "plt.xlabel('Types of Categories')\n",
    "plt.title('Bar graph showing frequency of different types of personalities')\n",
    "plt.show()"
   ]
  },
  {
   "cell_type": "code",
   "execution_count": null,
   "metadata": {
    "colab": {
     "base_uri": "https://localhost:8080/",
     "height": 699
    },
    "id": "O-83eETeCuWp",
    "outputId": "f8f80bca-cd09-404e-d0bc-d25d9fb1ca99"
   },
   "outputs": [],
   "source": [
    "mbti_df.type.value_counts().plot(kind='pie',figsize=(12,12), autopct='%1.1f%%', explode=[0.1,0,0,0,0,0,0,0,0,0,0,0,0,0,0,0])\n",
    "plt.title('Pie plot showing different types of personalities')\n",
    "plt.show()"
   ]
  },
  {
   "cell_type": "code",
   "execution_count": null,
   "metadata": {
    "colab": {
     "base_uri": "https://localhost:8080/",
     "height": 367
    },
    "id": "-d6a-vypqxnF",
    "outputId": "f7359187-29f9-453e-f5d2-d3fae75b6dbe"
   },
   "outputs": [],
   "source": [
    "sns.distplot(mbti_df[\"posts\"].apply(len))\n",
    "plt.xlabel(\"Length of posts\")\n",
    "plt.ylabel(\"Density\")\n",
    "plt.title(\"Distribution of lengths of the post\")"
   ]
  },
  {
   "cell_type": "markdown",
   "metadata": {
    "id": "1Jg3pDShDARL"
   },
   "source": [
    "##Preprocessing of Dataset"
   ]
  },
  {
   "cell_type": "code",
   "execution_count": null,
   "metadata": {
    "id": "T8cAuh6C_S8h"
   },
   "outputs": [],
   "source": [
    "mbti_df[\"posts\"] = mbti_df[\"posts\"].str.lower()       #converts text in posts to lowercase as it is preferred in nlp"
   ]
  },
  {
   "cell_type": "code",
   "execution_count": null,
   "metadata": {
    "id": "wmLdL7Fj_bgY"
   },
   "outputs": [],
   "source": [
    "for i in range(len(mbti_df)):\n",
    "  post_temp=mbti_df._get_value(i, 'posts')\n",
    "  pattern = re.compile(r'https?://[a-zA-Z0-9./-]*/[a-zA-Z0-9?=_.]*[_0-9.a-zA-Z/-]*')    #to match url links present in the post\n",
    "  post_temp= re.sub(pattern, ' ', post_temp)                                            #to replace that url link with space\n",
    "  mbti_df._set_value(i, 'posts',post_temp)"
   ]
  },
  {
   "cell_type": "code",
   "execution_count": null,
   "metadata": {
    "id": "3qp_SgT_AKOS"
   },
   "outputs": [],
   "source": [
    "for i in range(len(mbti_df)):\n",
    "  post_temp=mbti_df._get_value(i, 'posts')\n",
    "  pattern = re.compile(r'[0-9]')                                    #to match numbers from 0 to 9\n",
    "  post_temp= re.sub(pattern, ' ', post_temp)                        #to replace them with space\n",
    "  pattern = re.compile('\\W+')                                       #to match alphanumeric characters\n",
    "  post_temp= re.sub(pattern, ' ', post_temp)                        #to replace them with space\n",
    "  pattern = re.compile(r'[_+]')\n",
    "  post_temp= re.sub(pattern, ' ', post_temp)\n",
    "  mbti_df._set_value(i, 'posts',post_temp)"
   ]
  },
  {
   "cell_type": "code",
   "execution_count": null,
   "metadata": {
    "id": "8DsdXMOIAPQS"
   },
   "outputs": [],
   "source": [
    "for i in range(len(mbti_df)):\n",
    "  post_temp=mbti_df._get_value(i, 'posts')\n",
    "  pattern = re.compile('\\s+')                                     #to match multiple whitespaces\n",
    "  post_temp= re.sub(pattern, ' ', post_temp)                      #to replace them with single whitespace\n",
    "  mbti_df._set_value(i, 'posts', post_temp)"
   ]
  },
  {
   "cell_type": "code",
   "execution_count": null,
   "metadata": {
    "colab": {
     "base_uri": "https://localhost:8080/"
    },
    "id": "3ZmTr3xZfYRJ",
    "outputId": "a344db7c-d293-4350-e461-d70022a0bfcc"
   },
   "outputs": [],
   "source": [
    "from nltk.corpus import stopwords\n",
    "nltk.download('stopwords')"
   ]
  },
  {
   "cell_type": "code",
   "execution_count": null,
   "metadata": {
    "id": "4qNv7j1JATMV"
   },
   "outputs": [],
   "source": [
    "remove_words = stopwords.words(\"english\")\n",
    "for i in range(mbti_df.shape[0]):\n",
    "  post_temp=mbti_df._get_value(i, 'posts')\n",
    "  post_temp=\" \".join([w for w in post_temp.split(' ') if w not in remove_words])    #to remove stopwords\n",
    "  mbti_df._set_value(i, 'posts', post_temp)"
   ]
  },
  {
   "cell_type": "code",
   "execution_count": null,
   "metadata": {
    "colab": {
     "base_uri": "https://localhost:8080/"
    },
    "id": "y8USLXEUAXVN",
    "outputId": "2460869d-df2c-4e47-ff6f-63c1314c359f"
   },
   "outputs": [],
   "source": [
    "from nltk.stem import WordNetLemmatizer\n",
    "lemmatizer = WordNetLemmatizer()\n",
    "nltk.download('wordnet')"
   ]
  },
  {
   "cell_type": "code",
   "execution_count": null,
   "metadata": {
    "id": "li96Li0_tFHV"
   },
   "outputs": [],
   "source": [
    "for i in range(mbti_df.shape[0]):\n",
    "  post_temp=mbti_df._get_value(i, 'posts')\n",
    "  post_temp=\" \".join([lemmatizer.lemmatize(w) for w in post_temp.split(' ')])   #to implement lemmetization i.e. to group together different forms of a word\n",
    "  mbti_df._set_value(i, 'posts', post_temp)"
   ]
  },
  {
   "cell_type": "code",
   "execution_count": null,
   "metadata": {
    "colab": {
     "base_uri": "https://localhost:8080/"
    },
    "id": "EAY1cPXo2V_9",
    "outputId": "a20f6aa2-bafa-4dd9-a065-b003b2155dda"
   },
   "outputs": [],
   "source": [
    "print(mbti_df)"
   ]
  },
  {
   "cell_type": "code",
   "execution_count": null,
   "metadata": {
    "id": "PWWzo1xJjmlJ"
   },
   "outputs": [],
   "source": [
    "from sklearn.model_selection import train_test_split\n",
    "train_data,test_data=train_test_split(mbti_df,test_size=0.2,random_state=42,stratify=mbti_df.type)"
   ]
  },
  {
   "cell_type": "code",
   "execution_count": null,
   "metadata": {
    "colab": {
     "base_uri": "https://localhost:8080/"
    },
    "id": "t2Px4BOhocLG",
    "outputId": "74324bb6-37f8-4f58-d39d-32571c965683"
   },
   "outputs": [],
   "source": [
    "print(test_data)"
   ]
  },
  {
   "cell_type": "code",
   "execution_count": null,
   "metadata": {
    "id": "bto8kof7SbRl"
   },
   "outputs": [],
   "source": [
    "vectorizer=TfidfVectorizer( max_features=5000,stop_words='english')\n",
    "vectorizer.fit(train_data.posts)\n",
    "train_post=vectorizer.transform(train_data.posts).toarray()\n",
    "test_post=vectorizer.transform(test_data.posts).toarray()"
   ]
  },
  {
   "cell_type": "code",
   "execution_count": null,
   "metadata": {
    "id": "NXKwMd_0auTU"
   },
   "outputs": [],
   "source": [
    "from sklearn.preprocessing import LabelEncoder\n",
    "target_encoder=LabelEncoder()\n",
    "train_target=target_encoder.fit_transform(train_data.type)\n",
    "test_target=target_encoder.fit_transform(test_data.type)"
   ]
  },
  {
   "cell_type": "markdown",
   "metadata": {
    "id": "c568E9sYCrYt"
   },
   "source": [
    "##Training different models and testing their performance"
   ]
  },
  {
   "cell_type": "markdown",
   "metadata": {
    "id": "R0p-CxWhFV14"
   },
   "source": [
    "###Gaussian Naive Bayes"
   ]
  },
  {
   "cell_type": "code",
   "execution_count": null,
   "metadata": {
    "id": "TqL3uVoa2YCN"
   },
   "outputs": [],
   "source": [
    "from sklearn.naive_bayes import GaussianNB"
   ]
  },
  {
   "cell_type": "code",
   "execution_count": null,
   "metadata": {
    "id": "QsYBNcbC2ZJD"
   },
   "outputs": [],
   "source": [
    "model_gnb=GaussianNB()\n",
    "model_gnb.fit(train_post,train_target)\n",
    "pred_gnb=model_gnb.predict(test_post)"
   ]
  },
  {
   "cell_type": "code",
   "execution_count": null,
   "metadata": {
    "id": "FEWDc3PA2mLU"
   },
   "outputs": [],
   "source": [
    "pred_training_gnb=model_gnb.predict(train_post)"
   ]
  },
  {
   "cell_type": "code",
   "execution_count": null,
   "metadata": {
    "colab": {
     "base_uri": "https://localhost:8080/"
    },
    "id": "P3QYglZC2yMw",
    "outputId": "447ef4da-d5ae-41a2-a75b-56ada5735fc1"
   },
   "outputs": [],
   "source": [
    "print(\"The train accuracy score for model trained on Gaussian Naive Bayes Classifier is:\",accuracy_score(train_target,pred_training_gnb))"
   ]
  },
  {
   "cell_type": "code",
   "execution_count": null,
   "metadata": {
    "colab": {
     "base_uri": "https://localhost:8080/"
    },
    "id": "2dHJo8eK2yMw",
    "outputId": "94e45a88-35f3-4b3c-bc79-9559234dc89b"
   },
   "outputs": [],
   "source": [
    "print(\"The test acccuracy score for model trained on Gaussian Naive Bayes Classifier is:\",accuracy_score(test_target,pred_gnb))"
   ]
  },
  {
   "cell_type": "code",
   "execution_count": null,
   "metadata": {
    "colab": {
     "base_uri": "https://localhost:8080/"
    },
    "id": "o8QStU0DmGPD",
    "outputId": "c891e9d6-948a-4bc7-ba76-43e188fa5b96"
   },
   "outputs": [],
   "source": [
    "from sklearn.metrics import classification_report\n",
    "personality_types=target_encoder.inverse_transform([i for i in range(16)])\n",
    "print('Test classification report of Gaussian Naive Bayes\\n',classification_report(test_target,model_gnb.predict(test_post),target_names=personality_types))"
   ]
  },
  {
   "cell_type": "markdown",
   "metadata": {
    "id": "rw9X8Ve7Fa-A"
   },
   "source": [
    "###Multinomial Naive Bayes"
   ]
  },
  {
   "cell_type": "code",
   "execution_count": null,
   "metadata": {
    "id": "vKBTbpxn3rQt"
   },
   "outputs": [],
   "source": [
    "from sklearn.naive_bayes import MultinomialNB"
   ]
  },
  {
   "cell_type": "code",
   "execution_count": null,
   "metadata": {
    "id": "NcgFgatV3rQt"
   },
   "outputs": [],
   "source": [
    "model_mnb=MultinomialNB()\n",
    "model_mnb.fit(train_post,train_target)\n",
    "pred_mnb=model_mnb.predict(test_post)"
   ]
  },
  {
   "cell_type": "code",
   "execution_count": null,
   "metadata": {
    "id": "F-beHAM43rQu"
   },
   "outputs": [],
   "source": [
    "pred_training_mnb=model_mnb.predict(train_post)"
   ]
  },
  {
   "cell_type": "code",
   "execution_count": null,
   "metadata": {
    "colab": {
     "base_uri": "https://localhost:8080/"
    },
    "id": "uIuIINdr3rQu",
    "outputId": "309e5c3a-e103-4b05-d74b-cc3bb396e537"
   },
   "outputs": [],
   "source": [
    "print(\"The train accuracy score for model trained on Multinomial Naive Bayes Classifier is:\",accuracy_score(train_target,pred_training_mnb))"
   ]
  },
  {
   "cell_type": "code",
   "execution_count": null,
   "metadata": {
    "colab": {
     "base_uri": "https://localhost:8080/"
    },
    "id": "XN-cgvYc3rQu",
    "outputId": "78abbb9b-fc92-438f-ee8b-8462be4bad4f"
   },
   "outputs": [],
   "source": [
    "print(\"The test acccuracy score for model trained on Multinomial Naive Bayes Classifier is:\",accuracy_score(test_target,pred_mnb))"
   ]
  },
  {
   "cell_type": "code",
   "execution_count": null,
   "metadata": {
    "colab": {
     "base_uri": "https://localhost:8080/"
    },
    "id": "W3uPUI7Fm0Wk",
    "outputId": "bc2e71d3-0685-4330-d103-ed23329c478b"
   },
   "outputs": [],
   "source": [
    "from sklearn.metrics import classification_report\n",
    "personality_types=target_encoder.inverse_transform([i for i in range(16)])\n",
    "print('Test classification report of Multinomial Naive Bayes \\n',classification_report(test_target,model_mnb.predict(test_post),target_names=personality_types))"
   ]
  },
  {
   "cell_type": "markdown",
   "metadata": {
    "id": "yg9fX1f3FhP7"
   },
   "source": [
    "###Random Forest Classifier"
   ]
  },
  {
   "cell_type": "code",
   "execution_count": null,
   "metadata": {
    "id": "zPPsInedCp8B"
   },
   "outputs": [],
   "source": [
    "from sklearn.ensemble import RandomForestClassifier"
   ]
  },
  {
   "cell_type": "code",
   "execution_count": null,
   "metadata": {
    "id": "957FGg0qbM9L"
   },
   "outputs": [],
   "source": [
    "model_rfc=RandomForestClassifier()\n",
    "model_rfc.fit(train_post,train_target)\n",
    "pred_rfc=model_rfc.predict(test_post)"
   ]
  },
  {
   "cell_type": "code",
   "execution_count": null,
   "metadata": {
    "id": "YS03_yXSxIFx"
   },
   "outputs": [],
   "source": [
    "pred_training_rfc=model_rfc.predict(train_post)"
   ]
  },
  {
   "cell_type": "code",
   "execution_count": null,
   "metadata": {
    "colab": {
     "base_uri": "https://localhost:8080/"
    },
    "id": "w-YqTB4otj21",
    "outputId": "7b1431f7-6a18-4903-d91b-dfd1a8c2c6f2"
   },
   "outputs": [],
   "source": [
    "print(\"The train accuracy score for model trained on Random Forest Classifier is:\",accuracy_score(train_target,pred_training_rfc))"
   ]
  },
  {
   "cell_type": "code",
   "execution_count": null,
   "metadata": {
    "colab": {
     "base_uri": "https://localhost:8080/"
    },
    "id": "siZ87ojfbkSI",
    "outputId": "1a75c071-dd2d-4552-e946-2a2517c9c1ce"
   },
   "outputs": [],
   "source": [
    "print(\"The test acccuracy score for model trained on Random Forest Classifier is:\",accuracy_score(test_target,pred_rfc))"
   ]
  },
  {
   "cell_type": "code",
   "execution_count": null,
   "metadata": {
    "colab": {
     "base_uri": "https://localhost:8080/"
    },
    "id": "8PuZ2JcRpYEz",
    "outputId": "15b88253-dce9-49de-cc02-29fa8b981e8c"
   },
   "outputs": [],
   "source": [
    "from sklearn.metrics import classification_report\n",
    "personality_types=target_encoder.inverse_transform([i for i in range(16)])\n",
    "print('Test classification report of Random Forest Classifier\\n',classification_report(test_target,model_rfc.predict(test_post),target_names=personality_types))"
   ]
  },
  {
   "cell_type": "markdown",
   "metadata": {
    "id": "4I7JctZ8Flwu"
   },
   "source": [
    "###XGBoost Classifier"
   ]
  },
  {
   "cell_type": "code",
   "execution_count": null,
   "metadata": {
    "id": "YgdjF3EnmFOq"
   },
   "outputs": [],
   "source": [
    "from xgboost import XGBClassifier\n",
    "model_xgb=XGBClassifier()\n",
    "model_xgb.fit(train_post,train_target)\n",
    "pred_xgb=model_xgb.predict(test_post)"
   ]
  },
  {
   "cell_type": "code",
   "execution_count": null,
   "metadata": {
    "id": "XyQcJaL9xbd9"
   },
   "outputs": [],
   "source": [
    "pred_training_xgb=model_xgb.predict(train_post)"
   ]
  },
  {
   "cell_type": "code",
   "execution_count": null,
   "metadata": {
    "colab": {
     "base_uri": "https://localhost:8080/"
    },
    "id": "viANRdgrxbd9",
    "outputId": "ac89a17d-2215-47b0-ed21-af0cd516949e"
   },
   "outputs": [],
   "source": [
    "print(\"The train accuracy score for model trained on XGBoost Classifier is:\",accuracy_score(train_target,pred_training_xgb))"
   ]
  },
  {
   "cell_type": "code",
   "execution_count": null,
   "metadata": {
    "colab": {
     "base_uri": "https://localhost:8080/"
    },
    "id": "d9W2cx5qmMz0",
    "outputId": "5fbe72cd-a1da-43b7-b0fb-6a221c78974e"
   },
   "outputs": [],
   "source": [
    "print(\"The test accuracy score for model trained on XGBoost classifier is:\",accuracy_score(test_target,pred_xgb))"
   ]
  },
  {
   "cell_type": "code",
   "execution_count": null,
   "metadata": {
    "colab": {
     "base_uri": "https://localhost:8080/"
    },
    "id": "fiBkDa5qppMW",
    "outputId": "012db2b8-99bc-47b0-a407-c146f01cb1a8"
   },
   "outputs": [],
   "source": [
    "from sklearn.metrics import classification_report\n",
    "personality_types=target_encoder.inverse_transform([i for i in range(16)])\n",
    "print('Test classification report of XGBoost Classifier\\n',classification_report(test_target,model_xgb.predict(test_post),target_names=personality_types))"
   ]
  },
  {
   "cell_type": "markdown",
   "metadata": {
    "id": "RUdrYTAnFuYP"
   },
   "source": [
    "###LightGBM Classifier"
   ]
  },
  {
   "cell_type": "code",
   "execution_count": null,
   "metadata": {
    "id": "cJQFdnKsu1eU"
   },
   "outputs": [],
   "source": [
    "from lightgbm import LGBMClassifier as lgb\n",
    "model_lgb = lgb()\n",
    "model_lgb.fit(train_post,train_target)\n",
    "pred_lgb=model_lgb.predict(test_post)"
   ]
  },
  {
   "cell_type": "code",
   "execution_count": null,
   "metadata": {
    "id": "0ASOCGMux5Vd"
   },
   "outputs": [],
   "source": [
    "pred_training_lgb=model_lgb.predict(train_post)"
   ]
  },
  {
   "cell_type": "code",
   "execution_count": null,
   "metadata": {
    "colab": {
     "base_uri": "https://localhost:8080/"
    },
    "id": "KzNcvKoDx5Ve",
    "outputId": "135dbf34-1944-42f7-9a3b-ab646666fb69"
   },
   "outputs": [],
   "source": [
    "print(\"The train accuracy score for model trained on LightGBM Classifier is:\",accuracy_score(train_target,pred_training_lgb))"
   ]
  },
  {
   "cell_type": "code",
   "execution_count": null,
   "metadata": {
    "colab": {
     "base_uri": "https://localhost:8080/"
    },
    "id": "CKLHXOZWvNTp",
    "outputId": "45361df3-d5d1-4e23-908f-16061b85f75a"
   },
   "outputs": [],
   "source": [
    "print(\"The test accuracy score for model trained on LightGBM classifier is:\",accuracy_score(test_target,pred_lgb))"
   ]
  },
  {
   "cell_type": "code",
   "execution_count": null,
   "metadata": {
    "colab": {
     "base_uri": "https://localhost:8080/"
    },
    "id": "7RNdIXWapt8F",
    "outputId": "5dc6cbca-8167-4d57-833f-36ab1ddd2a28"
   },
   "outputs": [],
   "source": [
    "from sklearn.metrics import classification_report\n",
    "personality_types=target_encoder.inverse_transform([i for i in range(16)])\n",
    "print('Test classification report of LightGBM Classifier\\n',classification_report(test_target,model_lgb.predict(test_post),target_names=personality_types))"
   ]
  },
  {
   "cell_type": "markdown",
   "metadata": {
    "id": "hPUwQigxGGtS"
   },
   "source": [
    "###Support Vector Classifier"
   ]
  },
  {
   "cell_type": "code",
   "execution_count": null,
   "metadata": {
    "id": "ZFcz2kPN7whx"
   },
   "outputs": [],
   "source": [
    "from sklearn.svm import SVC"
   ]
  },
  {
   "cell_type": "code",
   "execution_count": null,
   "metadata": {
    "id": "zG65CdgD7xLN"
   },
   "outputs": [],
   "source": [
    "model_svc=SVC()\n",
    "model_svc.fit(train_post,train_target)\n",
    "pred_svc=model_svc.predict(test_post)"
   ]
  },
  {
   "cell_type": "code",
   "execution_count": null,
   "metadata": {
    "id": "cBRdO5gn74YK"
   },
   "outputs": [],
   "source": [
    "pred_training_svc=model_svc.predict(train_post)"
   ]
  },
  {
   "cell_type": "code",
   "execution_count": null,
   "metadata": {
    "colab": {
     "base_uri": "https://localhost:8080/"
    },
    "id": "yTTrrpjF74YL",
    "outputId": "5351f014-c1f2-4be3-ace5-f8ced22cb9b5"
   },
   "outputs": [],
   "source": [
    "print(\"The train accuracy score for model trained on Support Classifier is:\",accuracy_score(train_target,pred_training_svc))"
   ]
  },
  {
   "cell_type": "code",
   "execution_count": null,
   "metadata": {
    "colab": {
     "base_uri": "https://localhost:8080/"
    },
    "id": "XvftYo8574YM",
    "outputId": "5feb36d5-e2a8-4782-8e7c-79ad8ba68119"
   },
   "outputs": [],
   "source": [
    "print(\"The test accuracy score for model trained on Support Vector classifier is:\",accuracy_score(test_target,pred_svc))"
   ]
  },
  {
   "cell_type": "code",
   "execution_count": null,
   "metadata": {
    "colab": {
     "base_uri": "https://localhost:8080/"
    },
    "id": "SPV87PgesmPj",
    "outputId": "704ce0e2-f5a1-4e52-a893-980a19f432a9"
   },
   "outputs": [],
   "source": [
    "from sklearn.metrics import classification_report\n",
    "personality_types=target_encoder.inverse_transform([i for i in range(16)])\n",
    "print('Test classification report of Support Vector Machine\\n',classification_report(test_target,model_svc.predict(test_post),target_names=personality_types))"
   ]
  },
  {
   "cell_type": "markdown",
   "metadata": {
    "id": "ZmN8ZCOcGLIf"
   },
   "source": [
    "###Logistic Regression"
   ]
  },
  {
   "cell_type": "code",
   "execution_count": null,
   "metadata": {
    "id": "eV-d0P8x9sUG"
   },
   "outputs": [],
   "source": [
    "from sklearn.linear_model import LogisticRegression"
   ]
  },
  {
   "cell_type": "code",
   "execution_count": null,
   "metadata": {
    "colab": {
     "base_uri": "https://localhost:8080/"
    },
    "id": "pAaupogw9xeW",
    "outputId": "3bdf277f-c4ea-4f96-962d-bed028b24657"
   },
   "outputs": [],
   "source": [
    "model_lr=LogisticRegression()\n",
    "model_lr.fit(train_post,train_target)\n",
    "pred_lr=model_lr.predict(test_post)"
   ]
  },
  {
   "cell_type": "code",
   "execution_count": null,
   "metadata": {
    "id": "r7V_ZIHd9xeW"
   },
   "outputs": [],
   "source": [
    "pred_training_lr=model_lr.predict(train_post)"
   ]
  },
  {
   "cell_type": "code",
   "execution_count": null,
   "metadata": {
    "colab": {
     "base_uri": "https://localhost:8080/"
    },
    "id": "rRj2dj1Z9xeX",
    "outputId": "b6db9719-0dd7-4f63-d5be-e62f660055b2"
   },
   "outputs": [],
   "source": [
    "print(\"The train accuracy score for model trained on Logistic Regression is:\",accuracy_score(train_target,pred_training_lr))"
   ]
  },
  {
   "cell_type": "code",
   "execution_count": null,
   "metadata": {
    "colab": {
     "base_uri": "https://localhost:8080/"
    },
    "id": "T6O-PXZI9xeX",
    "outputId": "26a79357-5b4a-4526-89a9-e3359bbe131e"
   },
   "outputs": [],
   "source": [
    "print(\"The test accuracy score for model trained on Logistic Regression is:\",accuracy_score(test_target,pred_lr))"
   ]
  },
  {
   "cell_type": "code",
   "execution_count": null,
   "metadata": {
    "colab": {
     "base_uri": "https://localhost:8080/"
    },
    "id": "Q_R8ZEIsp_rF",
    "outputId": "3d0fce58-f46e-4a3b-cd9c-6853f8e1770a"
   },
   "outputs": [],
   "source": [
    "from sklearn.metrics import classification_report\n",
    "personality_types=target_encoder.inverse_transform([i for i in range(16)])\n",
    "print('Test classification report of Logistic Regression\\n',classification_report(test_target,model_lr.predict(test_post),target_names=personality_types))"
   ]
  },
  {
   "cell_type": "markdown",
   "metadata": {
    "id": "0pjift9Rvj2S"
   },
   "source": [
    "###Results"
   ]
  },
  {
   "cell_type": "code",
   "execution_count": null,
   "metadata": {
    "id": "0T1ZAqbRuxIo"
   },
   "outputs": [],
   "source": [
    "result_df=pd.DataFrame({'Model':[\"Gaussian NB\",\"Multinomial NB\",\"Random Forest\",\"XGBoost\",\"LightGBM\",\"SVM\",\"Logistic Regresssion\"],\n",
    "                        'Accuracy':[accuracy_score(test_target,pred_gnb),accuracy_score(test_target,pred_mnb),accuracy_score(test_target,pred_rfc),accuracy_score(test_target,pred_xgb),accuracy_score(test_target,pred_lgb),accuracy_score(test_target,pred_svc),accuracy_score(test_target,pred_lr)]})"
   ]
  },
  {
   "cell_type": "code",
   "execution_count": null,
   "metadata": {
    "colab": {
     "base_uri": "https://localhost:8080/"
    },
    "id": "N-k3zwoxwcSK",
    "outputId": "d141bb3a-078b-471a-c5aa-14e55cf8545c"
   },
   "outputs": [],
   "source": [
    "print(result_df.sort_values(by = 'Accuracy'))"
   ]
  }
 ],
 "metadata": {
  "accelerator": "GPU",
  "colab": {
   "name": "B20EE095_PRML_Bonus_Project.ipynb",
   "provenance": []
  },
  "kernelspec": {
   "display_name": "Python 3 (ipykernel)",
   "language": "python",
   "name": "python3"
  },
  "language_info": {
   "codemirror_mode": {
    "name": "ipython",
    "version": 3
   },
   "file_extension": ".py",
   "mimetype": "text/x-python",
   "name": "python",
   "nbconvert_exporter": "python",
   "pygments_lexer": "ipython3",
   "version": "3.9.12"
  }
 },
 "nbformat": 4,
 "nbformat_minor": 4
}
