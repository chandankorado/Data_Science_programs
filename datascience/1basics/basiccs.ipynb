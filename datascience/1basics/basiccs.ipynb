{
 "cells": [
  {
   "cell_type": "code",
   "execution_count": 5,
   "id": "17794152",
   "metadata": {},
   "outputs": [
    {
     "name": "stdout",
     "output_type": "stream",
     "text": [
      "Hello World !\n"
     ]
    }
   ],
   "source": [
    "#This is a comment\n",
    "\"\"\"\n",
    "this \n",
    "is \n",
    "multiline comments\n",
    "\"\"\"\n",
    "print(\"Hello World !\")"
   ]
  },
  {
   "cell_type": "code",
   "execution_count": 48,
   "id": "2387bfed",
   "metadata": {},
   "outputs": [
    {
     "name": "stdout",
     "output_type": "stream",
     "text": [
      "Hello String ! \n",
      " 20 \n",
      " 2.3 \n",
      " 4j \n",
      " True \n",
      " None \n",
      " ['apple', 'ball']\n",
      "(1, 2, 3, 3) \n",
      " b'Hello' \n",
      " bytearray(b'\\x00\\x00\\x00\\x00\\x00') \n",
      " <memory at 0x000001C51C5B7280> \n",
      " range(0, 6) \n",
      " {'a': 'apple', 'b': 'banana', 'c': 'cat'} \n",
      " {1, 2, 3, 4} \n",
      " frozenset({1, 2, 3, 4, 5})\n"
     ]
    }
   ],
   "source": [
    "s = \"Hello String !\"   # string\n",
    "i = 20                 # integer\n",
    "f = 2.3                # float\n",
    "c = 4j                 # complex\n",
    "b = True               # boolean\n",
    "n = None               # None\n",
    "l = [\"apple\",\"ball\"]   # list\n",
    "t = (1,2,3,3)          # tuple\n",
    "byt = b\"Hello\"         # bytes\n",
    "ba = bytearray(5)      #bytearray\n",
    "m = memoryview(bytes(5))  # memoryview\n",
    "r = range(6)           # range\n",
    "d = {\"a\":\"apple\",\"b\":\"banana\",\"c\":\"cat\"}  # dictionary\n",
    "st = {1,3,2,2,4}      # set\n",
    "fr = frozenset({1,2,3,4,5,3}) # frozenset \n",
    "\n",
    "print(s,\"\\n\",i,\"\\n\",f,\"\\n\",c,\"\\n\",b,\"\\n\",n,\"\\n\",l)\n",
    "print(t,\"\\n\",byt,\"\\n\",ba,\"\\n\",m,\"\\n\",r,\"\\n\",d,\"\\n\",st,\"\\n\",fr)\n"
   ]
  },
  {
   "cell_type": "code",
   "execution_count": 22,
   "id": "e87c07e5",
   "metadata": {},
   "outputs": [
    {
     "name": "stdout",
     "output_type": "stream",
     "text": [
      "<class 'str'>\n",
      "<class 'int'>\n",
      "<class 'float'>\n",
      "<class 'complex'>\n",
      "<class 'bool'>\n",
      "<class 'NoneType'>\n",
      "<class 'list'>\n",
      "<class 'tuple'>\n",
      "<class 'bytes'>\n",
      "<class 'bytearray'>\n",
      "<class 'memoryview'>\n",
      "<class 'range'>\n",
      "<class 'dict'>\n",
      "<class 'set'>\n",
      "<class 'frozenset'>\n"
     ]
    }
   ],
   "source": [
    "# Data types\n",
    "print(type(s))\n",
    "print(type(i))\n",
    "print(type(f))\n",
    "print(type(c))\n",
    "print(type(b))\n",
    "print(type(n))\n",
    "print(type(l))\n",
    "print(type(t))\n",
    "print(type(byt))\n",
    "print(type(ba))\n",
    "print(type(m))\n",
    "print(type(r))\n",
    "print(type(d))\n",
    "print(type(st))\n",
    "print(type(fr))"
   ]
  },
  {
   "cell_type": "code",
   "execution_count": 48,
   "id": "7f7e7723",
   "metadata": {},
   "outputs": [
    {
     "name": "stdout",
     "output_type": "stream",
     "text": [
      "True\n",
      "True\n",
      "True\n",
      "True\n"
     ]
    }
   ],
   "source": [
    "# boolean\n",
    "print(bool(f))\n",
    "print(bool(c))\n",
    "print(bool(b))\n",
    "print(bool([\"apple\",\"ball\"]))"
   ]
  },
  {
   "cell_type": "code",
   "execution_count": 49,
   "id": "114d5c71",
   "metadata": {},
   "outputs": [
    {
     "name": "stdout",
     "output_type": "stream",
     "text": [
      "False\n",
      "False\n",
      "False\n",
      "False\n",
      "False\n",
      "False\n",
      "False\n"
     ]
    }
   ],
   "source": [
    "print(bool(False))\n",
    "print(bool(None))\n",
    "print(bool(0))\n",
    "print(bool(\"\"))\n",
    "print(bool(()))\n",
    "print(bool([]))\n",
    "print(bool({}))"
   ]
  },
  {
   "cell_type": "code",
   "execution_count": 30,
   "id": "ce304791",
   "metadata": {},
   "outputs": [
    {
     "name": "stdout",
     "output_type": "stream",
     "text": [
      "<class 'int'>\n",
      "<class 'float'>\n",
      "<class 'str'>\n"
     ]
    },
    {
     "data": {
      "text/plain": [
       "float"
      ]
     },
     "execution_count": 30,
     "metadata": {},
     "output_type": "execute_result"
    }
   ],
   "source": [
    "print(type(i))\n",
    "print(type(f))\n",
    "print(type(s))\n",
    "type(f)"
   ]
  },
  {
   "cell_type": "code",
   "execution_count": 31,
   "id": "959aa129",
   "metadata": {},
   "outputs": [
    {
     "name": "stdout",
     "output_type": "stream",
     "text": [
      "1\n"
     ]
    }
   ],
   "source": [
    "import random\n",
    "print(random.randrange(1, 10))"
   ]
  },
  {
   "cell_type": "code",
   "execution_count": 32,
   "id": "ae706055",
   "metadata": {},
   "outputs": [
    {
     "name": "stdout",
     "output_type": "stream",
     "text": [
      "3 Oooo 123 2.0 123\n"
     ]
    }
   ],
   "source": [
    "x = 3\n",
    "y = \"Oooo\"\n",
    "\n",
    "i = int(123)\n",
    "s = str(123)\n",
    "f = float(2)\n",
    "print(x,y,i,f,s)"
   ]
  },
  {
   "cell_type": "code",
   "execution_count": 76,
   "id": "02804e20",
   "metadata": {},
   "outputs": [
    {
     "name": "stdout",
     "output_type": "stream",
     "text": [
      "5\n",
      "True\n",
      "True\n",
      "False\n",
      "True\n",
      "10\n",
      "11\n",
      "1\n",
      "-91\n",
      "40\n",
      "5\n",
      "11\n"
     ]
    }
   ],
   "source": [
    "# operator\n",
    "x = 10\n",
    "y = 2\n",
    "z = \"hello wolrd\"\n",
    "\n",
    "print(x // y) # arithmatic\n",
    "\n",
    "print(x >= y) # logical\n",
    "print(x != 4)\n",
    "\n",
    "print(\"wor\" in z) # identity op\n",
    "print(\"wor\"not in z)\n",
    "\n",
    "print(10 & 11)  # Bitwise op\n",
    "print(10 | 11)\n",
    "print(10 ^ 11)\n",
    "print(~90)\n",
    "print(10 << 2)\n",
    "print(10 >> 1)\n",
    "\n",
    "x += 1  # assignment\n",
    "print(x)"
   ]
  },
  {
   "cell_type": "code",
   "execution_count": 50,
   "id": "3fb1b8ba",
   "metadata": {},
   "outputs": [
    {
     "name": "stdout",
     "output_type": "stream",
     "text": [
      "single line string \n",
      " this is \n",
      "multi line string\n",
      "26\n",
      "b\n",
      "a\n",
      "n\n",
      "a\n",
      "n\n",
      "a\n",
      "'this' is present\n",
      "True\n",
      "True\n"
     ]
    }
   ],
   "source": [
    "# python string\n",
    "s = \"single line string\"\n",
    "\n",
    "m = \"\"\"this is \n",
    "multi line string\"\"\"\n",
    "\n",
    "b = \"banana\"\n",
    "print(s,\"\\n\",m)\n",
    "print(len(m))\n",
    "\n",
    "for x in b:\n",
    "    print(x)\n",
    "if \"this\" in m:\n",
    "    print(\"'this' is present\")\n",
    "    \n",
    "print(\"this\" in m)\n",
    "print(\"these\" not in m)"
   ]
  },
  {
   "cell_type": "code",
   "execution_count": 8,
   "id": "fb340079",
   "metadata": {},
   "outputs": [
    {
     "name": "stdout",
     "output_type": "stream",
     "text": [
      "0\n",
      "[2, 3, 4]\n",
      "[4, 5, 6]\n",
      "[0, 1, 2, 3, 4, 5, 6, 7, 10, 11, 12, 13, 14, 15]\n",
      "14\n",
      "[0, 1, 2, 3, 4, 5, 6, 7, 8]\n",
      "[0, 1, 2, 3, 4, 5, 6, 7, 8, 90]\n",
      "16\n"
     ]
    }
   ],
   "source": [
    "# List\n",
    "st = [0,1,2,3,4,5,6,7]\n",
    "ss = [10,11,12,13,14,15]\n",
    "\n",
    "print(st[0])\n",
    "print(st[2:5])  # 2 - 4\n",
    "print(st[-4:-1]) # -4 to -2\n",
    "\n",
    "print(st+ss)\n",
    "print(len(st+ss))\n",
    "st.append(8) # at last\n",
    "print(st)\n",
    "\n",
    "st.insert(9,90) # 9 is index and 90 is element\n",
    "print(st)\n",
    "print(len(st+ss))"
   ]
  },
  {
   "cell_type": "code",
   "execution_count": 16,
   "id": "93585ae3",
   "metadata": {},
   "outputs": [
    {
     "name": "stdout",
     "output_type": "stream",
     "text": [
      "Present\n",
      "number is positive !\n"
     ]
    }
   ],
   "source": [
    "# ...if else elif...Conditional Statement\n",
    "x  = 1\n",
    "l = [\"a\",\"b\",\"c\"]\n",
    "if \"a\" in l:\n",
    "    print(\"Present\")\n",
    "else:\n",
    "    print(\"Not present\")\n",
    "    \n",
    "if x < 0:\n",
    "    print(\"number is negative !\")\n",
    "elif x > 0:                       # there is no else if \n",
    "    print(\"number is positive !\")\n",
    "else:\n",
    "    print(\"number is Zero !\")"
   ]
  },
  {
   "cell_type": "code",
   "execution_count": 35,
   "id": "ef80e03a",
   "metadata": {},
   "outputs": [
    {
     "name": "stdout",
     "output_type": "stream",
     "text": [
      "126\n"
     ]
    }
   ],
   "source": [
    "# for loop\n",
    "\n",
    "t = 0\n",
    "for i in st:\n",
    "    t += i\n",
    "print(t)"
   ]
  },
  {
   "cell_type": "code",
   "execution_count": 37,
   "id": "4dcd7844",
   "metadata": {},
   "outputs": [
    {
     "name": "stdout",
     "output_type": "stream",
     "text": [
      "3\n"
     ]
    }
   ],
   "source": [
    "# function\n",
    "def sum(a,b):\n",
    "    t = a + b\n",
    "    return t\n",
    "s = sum(1,2)\n",
    "print(s)"
   ]
  },
  {
   "cell_type": "code",
   "execution_count": 47,
   "id": "716d797e",
   "metadata": {},
   "outputs": [
    {
     "name": "stdout",
     "output_type": "stream",
     "text": [
      "Apple\n",
      "A  : Apple\n",
      "B  : Ball\n",
      "C  : Cat\n",
      "D  : Dog\n",
      "D : Apple\n",
      "D : Ball\n",
      "D : Cat\n",
      "D : Dog\n",
      "{'A': 'Ass', 'B': 'Ball', 'C': 'Cat', 'D': 'Dog'}\n"
     ]
    }
   ],
   "source": [
    "# Dictionary mutable\n",
    "d = {\"A\":\"Apple\",\"B\":\"Ball\",\"C\":\"Cat\",\"D\":\"Dog\"}   #don't use (;) instead of (,)\n",
    "\n",
    "print(d[\"A\"])\n",
    "for key in d:\n",
    "    print(key,\" : \"+d[key])\n",
    "\n",
    "for k,v in d.items():\n",
    "    print(key+\" : \"+v)\n",
    "d[\"A\"] = \"Ass\"\n",
    "print(d)"
   ]
  },
  {
   "cell_type": "code",
   "execution_count": 49,
   "id": "33cabd39",
   "metadata": {},
   "outputs": [
    {
     "name": "stdout",
     "output_type": "stream",
     "text": [
      "(3, 4) ('chandan', 180840, 'g-6', 4)\n"
     ]
    }
   ],
   "source": [
    "# Tuple immutable\n",
    "point = (3,4) # 3 is x-cordinate 4 is y-cordinate\n",
    "\n",
    "t = (\"chandan\",180840,\"g-6\",4)\n",
    "\n",
    "print(point,t)"
   ]
  },
  {
   "cell_type": "code",
   "execution_count": 67,
   "id": "e1fed354",
   "metadata": {},
   "outputs": [
    {
     "name": "stdout",
     "output_type": "stream",
     "text": [
      "sqrt_16 : 4.0\n",
      "power_4^2 : 16.0\n",
      "pi value : 3.141592653589793\n",
      "log10(100) : 2.0\n",
      "math module functions :\n",
      "\n",
      " ['__doc__', '__loader__', '__name__', '__package__', '__spec__', 'acos', 'acosh', 'asin', 'asinh', 'atan', 'atan2', 'atanh', 'ceil', 'comb', 'copysign', 'cos', 'cosh', 'degrees', 'dist', 'e', 'erf', 'erfc', 'exp', 'expm1', 'fabs', 'factorial', 'floor', 'fmod', 'frexp', 'fsum', 'gamma', 'gcd', 'hypot', 'inf', 'isclose', 'isfinite', 'isinf', 'isnan', 'isqrt', 'lcm', 'ldexp', 'lgamma', 'log', 'log10', 'log1p', 'log2', 'modf', 'nan', 'nextafter', 'perm', 'pi', 'pow', 'prod', 'radians', 'remainder', 'sin', 'sinh', 'sqrt', 'tan', 'tanh', 'tau', 'trunc', 'ulp']\n"
     ]
    }
   ],
   "source": [
    "# Module\n",
    "import math as mt\n",
    "\n",
    "print(\"sqrt_16 :\",mt.sqrt(16))  # dont use (+) instead of (,)\n",
    "print(\"power_4^2 :\",mt.pow(4,2))\n",
    "print(\"pi value :\",mt.pi)\n",
    "print(\"log10(100) :\",mt.log10(100))\n",
    "\n",
    "print(\"math module functions :\\n\\n\",dir(mt))  # math module functions"
   ]
  },
  {
   "cell_type": "code",
   "execution_count": 74,
   "id": "b28a7b06",
   "metadata": {},
   "outputs": [
    {
     "name": "stdout",
     "output_type": "stream",
     "text": [
      "    January 2016\n",
      "Mo Tu We Th Fr Sa Su\n",
      "             1  2  3\n",
      " 4  5  6  7  8  9 10\n",
      "11 12 13 14 15 16 17\n",
      "18 19 20 21 22 23 24\n",
      "25 26 27 28 29 30 31\n",
      "\n",
      "True\n",
      "['Calendar', 'EPOCH', 'FRIDAY', 'February', 'HTMLCalendar', 'IllegalMonthError', 'IllegalWeekdayError', 'January', 'LocaleHTMLCalendar', 'LocaleTextCalendar', 'MONDAY', 'SATURDAY', 'SUNDAY', 'THURSDAY', 'TUESDAY', 'TextCalendar', 'WEDNESDAY', '_EPOCH_ORD', '__all__', '__builtins__', '__cached__', '__doc__', '__file__', '__loader__', '__name__', '__package__', '__spec__', '_colwidth', '_locale', '_localized_day', '_localized_month', '_monthlen', '_nextmonth', '_prevmonth', '_spacing', 'c', 'calendar', 'datetime', 'day_abbr', 'day_name', 'different_locale', 'error', 'firstweekday', 'format', 'formatstring', 'isleap', 'leapdays', 'main', 'mdays', 'month', 'month_abbr', 'month_name', 'monthcalendar', 'monthrange', 'prcal', 'prmonth', 'prweek', 'repeat', 'setfirstweekday', 'sys', 'timegm', 'week', 'weekday', 'weekheader']\n"
     ]
    }
   ],
   "source": [
    "# calender module\n",
    "import calendar as cal\n",
    "\n",
    "c = cal.month(2016,1)\n",
    "print(c)\n",
    "l = cal.isleap(2016)\n",
    "print(l)\n",
    "\n",
    "print(dir(cal))"
   ]
  },
  {
   "cell_type": "code",
   "execution_count": 78,
   "id": "713ea8f5",
   "metadata": {},
   "outputs": [
    {
     "data": {
      "text/plain": [
       "'__main__'"
      ]
     },
     "execution_count": 78,
     "metadata": {},
     "output_type": "execute_result"
    }
   ],
   "source": [
    "__name__  # predefined  variable sometime change its variable "
   ]
  },
  {
   "cell_type": "code",
   "execution_count": 81,
   "id": "d4a1767a",
   "metadata": {},
   "outputs": [
    {
     "name": "stdout",
     "output_type": "stream",
     "text": [
      "tom cruise  shoots a film\n",
      "tom cruise  says how are you \n"
     ]
    }
   ],
   "source": [
    "# class and object\n",
    "class Human:\n",
    "    def __init__(self, n, o):\n",
    "        self.name = n\n",
    "        self.occupation = o\n",
    "        \n",
    "    def do_work(self):\n",
    "        if self.occupation == \"tennis player\":\n",
    "            print(self.name,\" plays tennis\")\n",
    "        elif self.occupation == \"actor\":\n",
    "            print(self.name,\" shoots a film\")\n",
    "    \n",
    "    def speaks(self):\n",
    "        print(self.name,\" says how are you \")\n",
    "        \n",
    "tom = Human(\"tom cruise\",\"actor\")\n",
    "tom.do_work()\n",
    "tom.speaks()"
   ]
  },
  {
   "cell_type": "code",
   "execution_count": 83,
   "id": "b46f3310",
   "metadata": {},
   "outputs": [
    {
     "name": "stdout",
     "output_type": "stream",
     "text": [
      "maria sharapova  plays tennis\n",
      "maria sharapova  says how are you \n"
     ]
    }
   ],
   "source": [
    "maria = Human(\"maria sharapova\",\"tennis player\")\n",
    "maria.do_work()\n",
    "maria.speaks()"
   ]
  },
  {
   "cell_type": "code",
   "execution_count": null,
   "id": "a221b3b1",
   "metadata": {},
   "outputs": [],
   "source": []
  }
 ],
 "metadata": {
  "kernelspec": {
   "display_name": "Python 3 (ipykernel)",
   "language": "python",
   "name": "python3"
  },
  "language_info": {
   "codemirror_mode": {
    "name": "ipython",
    "version": 3
   },
   "file_extension": ".py",
   "mimetype": "text/x-python",
   "name": "python",
   "nbconvert_exporter": "python",
   "pygments_lexer": "ipython3",
   "version": "3.10.4"
  }
 },
 "nbformat": 4,
 "nbformat_minor": 5
}
